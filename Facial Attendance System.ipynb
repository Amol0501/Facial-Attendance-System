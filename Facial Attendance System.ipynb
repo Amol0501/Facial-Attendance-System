{
 "cells": [
  {
   "cell_type": "code",
   "execution_count": 1,
   "id": "589fd358",
   "metadata": {},
   "outputs": [],
   "source": [
    "import cv2\n",
    "import face_recognition\n",
    "import os\n",
    "import numpy as np\n",
    "from datetime import datetime\n",
    "import pickle"
   ]
  },
  {
   "cell_type": "code",
   "execution_count": 2,
   "id": "1e3c955c",
   "metadata": {},
   "outputs": [],
   "source": [
    "path = 'IP_Project_DataBase'"
   ]
  },
  {
   "cell_type": "code",
   "execution_count": 3,
   "id": "2c977319",
   "metadata": {},
   "outputs": [
    {
     "data": {
      "text/plain": [
       "['2110990025.jpg',\n",
       " '2110990152.jpg',\n",
       " '2110990153.jpg',\n",
       " '2110990155.jpg',\n",
       " '2110990157.jpg',\n",
       " '2110990161.jpg',\n",
       " '2110990163.jpg',\n",
       " '2110990165.jpg',\n",
       " '2110990184.jpg',\n",
       " '2110990186.jpg',\n",
       " '2110990188.jpg',\n",
       " '2110990190.jpg',\n",
       " '2110990375_Bhuvan.jpg']"
      ]
     },
     "execution_count": 3,
     "metadata": {},
     "output_type": "execute_result"
    }
   ],
   "source": [
    "os.listdir(path)"
   ]
  },
  {
   "cell_type": "code",
   "execution_count": 4,
   "id": "86b7672e",
   "metadata": {},
   "outputs": [],
   "source": [
    "images = []\n",
    "classNames = []\n",
    "mylist = os.listdir(path)\n",
    "for cl in mylist:\n",
    "    curImg = cv2.imread(f'{path}/{cl}')\n",
    "    images.append(curImg)\n",
    "    classNames.append(os.path.splitext(cl)[0])"
   ]
  },
  {
   "cell_type": "code",
   "execution_count": 5,
   "id": "f198a243",
   "metadata": {},
   "outputs": [
    {
     "data": {
      "text/plain": [
       "['2110990025',\n",
       " '2110990152',\n",
       " '2110990153',\n",
       " '2110990155',\n",
       " '2110990157',\n",
       " '2110990161',\n",
       " '2110990163',\n",
       " '2110990165',\n",
       " '2110990184',\n",
       " '2110990186',\n",
       " '2110990188',\n",
       " '2110990190',\n",
       " '2110990375_Bhuvan']"
      ]
     },
     "execution_count": 5,
     "metadata": {},
     "output_type": "execute_result"
    }
   ],
   "source": [
    "classNames"
   ]
  },
  {
   "cell_type": "code",
   "execution_count": 6,
   "id": "4bd74183",
   "metadata": {},
   "outputs": [],
   "source": [
    "def findEncodings(images):\n",
    "    img_count = 0\n",
    "    encodeList = []\n",
    "    for img in images:\n",
    "        img = cv2.cvtColor(img, cv2.COLOR_BGR2RGB)\n",
    "        encoded_face = face_recognition.face_encodings(img)[0]\n",
    "        encodeList.append(encoded_face)\n",
    "        img_count += 1\n",
    "        print(img_count)\n",
    "    return encodeList\n",
    "encoded_face_train = findEncodings(images)"
   ]
  },
  {
   "cell_type": "code",
   "execution_count": 7,
   "id": "cb61841b",
   "metadata": {},
   "outputs": [],
   "source": [
    "with open('processed_images.pickle', 'wb') as f:\n",
    "    pickle.dump(encoded_face_train, f)"
   ]
  },
  {
   "cell_type": "code",
   "execution_count": 15,
   "id": "fe70d3c8",
   "metadata": {},
   "outputs": [],
   "source": [
    "with open('processed_images.pickle', 'rb') as f:\n",
    "    encoded_face_train = pickle.load(f)"
   ]
  },
  {
   "cell_type": "code",
   "execution_count": 22,
   "id": "0bd457d5",
   "metadata": {},
   "outputs": [],
   "source": [
    "def markAttendance(name):\n",
    "    print(\"doing attendance\")\n",
    "    with open('Attendance.csv','r+') as f:\n",
    "        myDataList = f.readlines()\n",
    "        nameList = []\n",
    "        for line in myDataList:\n",
    "            entry = line.split(',')\n",
    "            nameList.append(entry[0])\n",
    "        if name not in nameList:\n",
    "            now = datetime.now()\n",
    "            time = now.strftime('%I:%M:%S:%p')\n",
    "            date = now.strftime('%d-%B-%Y')\n",
    "            f.writelines(f'{name}, {time}, {date} \\n')"
   ]
  },
  {
   "cell_type": "code",
   "execution_count": 21,
   "id": "44f3ca42",
   "metadata": {
    "scrolled": true
   },
   "outputs": [
    {
     "name": "stdout",
     "output_type": "stream",
     "text": [
      "doing attendance\n",
      "doing attendance\n"
     ]
    }
   ],
   "source": [
    "# take pictures from webcam \n",
    "attendance_arr = []\n",
    "count_frame = 0\n",
    "count_flag = 0\n",
    "cap  = cv2.VideoCapture(0)\n",
    "try :\n",
    "    while True:\n",
    "        success, img = cap.read()\n",
    "        imgS = cv2.resize(img, (0,0), None, 0.25,0.25)\n",
    "        imgS = cv2.cvtColor(imgS, cv2.COLOR_BGR2RGB)\n",
    "        faces_in_frame = face_recognition.face_locations(imgS)\n",
    "        encoded_faces = face_recognition.face_encodings(imgS, faces_in_frame)\n",
    "        for encode_face, faceloc in zip(encoded_faces,faces_in_frame):\n",
    "            matches = face_recognition.compare_faces(encoded_face_train, encode_face)\n",
    "            faceDist = face_recognition.face_distance(encoded_face_train, encode_face)\n",
    "            matchIndex = np.argmin(faceDist)\n",
    "            if matches[matchIndex]:\n",
    "                name = classNames[matchIndex].upper().lower()\n",
    "                if min(faceDist) > .5:\n",
    "                    name = \"unknown\"\n",
    "                y1,x2,y2,x1 = faceloc\n",
    "                # since we scaled down by 4 times\n",
    "                y1, x2,y2,x1 = y1*4,x2*4,y2*4,x1*4\n",
    "                cv2.rectangle(img,(x1,y1),(x2,y2),(0,255,0),2)\n",
    "                cv2.rectangle(img, (x1,y2-35),(x2,y2), (0,255,0), cv2.FILLED)\n",
    "                if count_flag <= 0 :\n",
    "                    count_flag = 1\n",
    "                    flag = False\n",
    "#                 cv2.putText(img,name, (x1+6,y2-5), cv2.FONT_HERSHEY_COMPLEX,1,(255,255,255),2)\n",
    "                attendance_arr.append(name)\n",
    "                if len(attendance_arr) == 10:\n",
    "                    maxi = 0\n",
    "                    res = attendance_arr[0]\n",
    "                    for i in attendance_arr:\n",
    "                        freq = attendance_arr.count(i)\n",
    "                        if freq > maxi:\n",
    "                            maxi = freq\n",
    "                            res = i\n",
    "                    attendance_arr.clear()\n",
    "                    if (res != \"unknown\") :\n",
    "                        markAttendance(res)\n",
    "                        flag = True\n",
    "                        count_flag = 10\n",
    "#                     print(res)\n",
    "                if flag :\n",
    "                    if name != \"unknown\" :\n",
    "                        cv2.putText(img,f\"Attendance Done of {name}\", (x1-200,y2-5), cv2.FONT_HERSHEY_COMPLEX,1,(255,255,255),2)\n",
    "                else :\n",
    "                    if name == \"unknown\" :\n",
    "                        cv2.putText(img,name, (x1+6,y2-5), cv2.FONT_HERSHEY_COMPLEX,1,(0,0,255),2)\n",
    "                    else :\n",
    "                        cv2.putText(img,name, (x1+6,y2-5), cv2.FONT_HERSHEY_COMPLEX,1,(255,255,255),2)\n",
    "        count_frame += 1\n",
    "        count_flag -= 1\n",
    "#         print(count_frame)\n",
    "        cv2.imshow('webcam', img)\n",
    "        if cv2.waitKey(1) & 0xFF == ord('q'):\n",
    "            break\n",
    "except:\n",
    "    print(\"Something went wrong\")\n",
    "cap.release() \n",
    "# Destroy all the windows \n",
    "cv2.destroyAllWindows() "
   ]
  },
  {
   "cell_type": "code",
   "execution_count": 18,
   "id": "d4f8b019",
   "metadata": {},
   "outputs": [],
   "source": [
    "import pandas as pd"
   ]
  },
  {
   "cell_type": "code",
   "execution_count": 19,
   "id": "70a0fe51",
   "metadata": {},
   "outputs": [],
   "source": [
    "df = pd.read_csv(\"Attendance.csv\")"
   ]
  },
  {
   "cell_type": "code",
   "execution_count": 23,
   "id": "4b2b331a",
   "metadata": {},
   "outputs": [
    {
     "data": {
      "text/html": [
       "<div>\n",
       "<style scoped>\n",
       "    .dataframe tbody tr th:only-of-type {\n",
       "        vertical-align: middle;\n",
       "    }\n",
       "\n",
       "    .dataframe tbody tr th {\n",
       "        vertical-align: top;\n",
       "    }\n",
       "\n",
       "    .dataframe thead th {\n",
       "        text-align: right;\n",
       "    }\n",
       "</style>\n",
       "<table border=\"1\" class=\"dataframe\">\n",
       "  <thead>\n",
       "    <tr style=\"text-align: right;\">\n",
       "      <th></th>\n",
       "      <th>Roll Number</th>\n",
       "      <th>Time</th>\n",
       "      <th>Date</th>\n",
       "    </tr>\n",
       "  </thead>\n",
       "  <tbody>\n",
       "    <tr>\n",
       "      <th>0</th>\n",
       "      <td>2110990165</td>\n",
       "      <td>06:23:29:PM</td>\n",
       "      <td>20-March-2024</td>\n",
       "    </tr>\n",
       "    <tr>\n",
       "      <th>1</th>\n",
       "      <td>2110990163</td>\n",
       "      <td>06:24:51:PM</td>\n",
       "      <td>20-March-2024</td>\n",
       "    </tr>\n",
       "    <tr>\n",
       "      <th>2</th>\n",
       "      <td>2110990165</td>\n",
       "      <td>03:02:40:PM</td>\n",
       "      <td>23-March-2024</td>\n",
       "    </tr>\n",
       "    <tr>\n",
       "      <th>3</th>\n",
       "      <td>2110990165</td>\n",
       "      <td>03:02:44:PM</td>\n",
       "      <td>23-March-2024</td>\n",
       "    </tr>\n",
       "    <tr>\n",
       "      <th>4</th>\n",
       "      <td>2110990165</td>\n",
       "      <td>03:02:49:PM</td>\n",
       "      <td>23-March-2024</td>\n",
       "    </tr>\n",
       "  </tbody>\n",
       "</table>\n",
       "</div>"
      ],
      "text/plain": [
       "    Roll Number          Time             Date\n",
       "0    2110990165   06:23:29:PM   20-March-2024 \n",
       "1    2110990163   06:24:51:PM   20-March-2024 \n",
       "2    2110990165   03:02:40:PM   23-March-2024 \n",
       "3    2110990165   03:02:44:PM   23-March-2024 \n",
       "4    2110990165   03:02:49:PM   23-March-2024 "
      ]
     },
     "execution_count": 23,
     "metadata": {},
     "output_type": "execute_result"
    }
   ],
   "source": [
    "df.tail()"
   ]
  },
  {
   "cell_type": "code",
   "execution_count": null,
   "id": "e15f8eed",
   "metadata": {},
   "outputs": [],
   "source": []
  }
 ],
 "metadata": {
  "kernelspec": {
   "display_name": "Python 3 (ipykernel)",
   "language": "python",
   "name": "python3"
  },
  "language_info": {
   "codemirror_mode": {
    "name": "ipython",
    "version": 3
   },
   "file_extension": ".py",
   "mimetype": "text/x-python",
   "name": "python",
   "nbconvert_exporter": "python",
   "pygments_lexer": "ipython3",
   "version": "3.9.7"
  }
 },
 "nbformat": 4,
 "nbformat_minor": 5
}
